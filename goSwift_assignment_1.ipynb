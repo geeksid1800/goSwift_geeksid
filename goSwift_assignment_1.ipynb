{
  "nbformat": 4,
  "nbformat_minor": 0,
  "metadata": {
    "colab": {
      "name": "goSwift assignment-1.ipynb",
      "provenance": [],
      "collapsed_sections": [],
      "authorship_tag": "ABX9TyOpa1eLDMH0pS34L53YR88O",
      "include_colab_link": true
    },
    "kernelspec": {
      "name": "python3",
      "display_name": "Python 3"
    },
    "language_info": {
      "name": "python"
    }
  },
  "cells": [
    {
      "cell_type": "markdown",
      "metadata": {
        "id": "view-in-github",
        "colab_type": "text"
      },
      "source": [
        "<a href=\"https://colab.research.google.com/github/geeksid1800/goSwift_geeksid/blob/main/goSwift_assignment_1.ipynb\" target=\"_parent\"><img src=\"https://colab.research.google.com/assets/colab-badge.svg\" alt=\"Open In Colab\"/></a>"
      ]
    },
    {
      "cell_type": "code",
      "metadata": {
        "id": "dQan3vzXarHS"
      },
      "source": [
        "import pandas as pd\n",
        "import matplotlib.pyplot as plt\n",
        "import numpy as np\n",
        "\n",
        "!pip install fuzzywuzzy\n",
        "!pip install python-Levenshtein\n",
        "\n",
        "import fuzzywuzzy\n",
        "from fuzzywuzzy import process\n",
        "import chardet\n",
        "\n",
        "#utf-8 unable to recognize 'Home decor'\n",
        "input_data = pd.read_csv('sample_data.csv',encoding='latin1') "
      ],
      "execution_count": null,
      "outputs": []
    },
    {
      "cell_type": "code",
      "metadata": {
        "colab": {
          "base_uri": "https://localhost:8080/"
        },
        "id": "GBSeGvN9fMVJ",
        "outputId": "c28afcfe-b46f-4eec-d255-955b1ccb856c"
      },
      "source": [
        "print(input_data.shape[0])\n",
        "\n",
        "# convert to lower case\n",
        "input_data['items.category'] = input_data['items.category'].str.lower()\n",
        "# remove trailing white spaces\n",
        "input_data['items.category'] = input_data['items.category'].str.strip()\n",
        "#cleaning up the video card name format\n",
        "input_data['items.category'] = input_data['items.category'].str.split('|').str[0]\n",
        "input_data['items.category'] = input_data['items.category'].str.split('\\:').str[-1].str.strip()\n",
        "\n",
        "input_data.drop_duplicates(inplace=True)\n",
        "print(input_data.shape[0])\n",
        "cats = input_data['items.category'].unique()\n",
        "cats.sort()\n",
        "cats"
      ],
      "execution_count": 2,
      "outputs": [
        {
          "output_type": "stream",
          "text": [
            "28001\n",
            "114\n"
          ],
          "name": "stdout"
        },
        {
          "output_type": "execute_result",
          "data": {
            "text/plain": [
              "array(['accessories', 'apparel', 'apparels', 'apparels test',\n",
              "       'automotive', 'ayurvedic', 'ayurvedic medicine', 'bath essentials',\n",
              "       'bath scrub', 'bathing essentials', 'bathroom suppliess',\n",
              "       'battery (any kind)', 'beauty', 'beauty & persomal care',\n",
              "       'beauty & personal', 'beauty & personal care', 'beauty-beauty',\n",
              "       'body care', 'books & stationery', 'bracelet', 'can', 'chain',\n",
              "       'chain pendant', 'chandbali', 'chandelier', 'chyawanprash range',\n",
              "       'clothes', 'cosmetics', 'crockery', 'danglers', 'diaper',\n",
              "       'diapers', 'diy tool', 'diy tools', 'earring', 'earring set',\n",
              "       'electronic', 'embroidery supplies', 'essential epquipment',\n",
              "       'essentialgoods', 'fake jewellery', 'fake jewelry',\n",
              "       'faucet extention', 'food', 'food (liquid)', 'food (solid)',\n",
              "       'food ingredients', 'food product', 'food products', 'gardening',\n",
              "       'geo grow bag', 'glassware', 'health & personal care',\n",
              "       'helth & personal care', 'home & kitchen', 'home decor',\n",
              "       'home dï¿½ï¿', 'home dï¿½ï¿½', 'home improvement',\n",
              "       'household items', 'industrial equipment', 'jewellery', 'jewelry',\n",
              "       'jhumki', 'juices', 'keychainb', 'laptop & computer accessories',\n",
              "       'liquid items', 'luggage', 'mask', 'medical equipment',\n",
              "       'medical essentials & equipments', 'medicine', 'medicines',\n",
              "       'medium sized packages', 'misting', 'mobile', 'mobile accessories',\n",
              "       'multi tool', 'necklace set', 'packages', 'personal care',\n",
              "       'personal health care', 'personalcare', 'polishing agent',\n",
              "       'polishing agnt', 'polishing essentials', 'power bank',\n",
              "       'power equipment', 'rehab epquipment', 'ring', 'sanitary', 'shoes',\n",
              "       'shpl range', 'small goods', 'small home appliances',\n",
              "       'small packages', 'sports wear', 'tablets', 'tap extention',\n",
              "       'tops', 'towels', 'travel gear', 'travel gears',\n",
              "       'video card (1a01yf907)', 'video card (1a03be115)',\n",
              "       'video card (1a03be555)', 'video card (1a03bg208)',\n",
              "       'video card (1a03gb488)', 'video card (in13)', 'video card (in15)',\n",
              "       'video card (in5)', 'video card (v002769)', 'watches'],\n",
              "      dtype=object)"
            ]
          },
          "metadata": {},
          "execution_count": 2
        }
      ]
    },
    {
      "cell_type": "code",
      "metadata": {
        "id": "oSoP4-AXgiha"
      },
      "source": [
        "matches = fuzzywuzzy.process.extract(\"video card (1a01yf907)\", cats, limit=10, scorer=fuzzywuzzy.fuzz.partial_ratio)\n",
        "matches"
      ],
      "execution_count": null,
      "outputs": []
    },
    {
      "cell_type": "code",
      "metadata": {
        "id": "M8116Fl_Fgpj"
      },
      "source": [
        "import networkx \n",
        "from networkx.algorithms.components.connected import connected_components\n",
        "\n",
        "\n",
        "def to_graph(l):\n",
        "    G = networkx.Graph()\n",
        "    for part in l:\n",
        "        # each sublist is a bunch of nodes\n",
        "        G.add_nodes_from(part)\n",
        "        # it also imlies a number of edges:\n",
        "        G.add_edges_from(to_edges(part))\n",
        "    return G\n",
        "\n",
        "def to_edges(l):\n",
        "    \"\"\" \n",
        "        treat `l` as a Graph and returns it's edges \n",
        "        to_edges(['a','b','c','d']) -> [(a,b), (b,c),(c,d)]\n",
        "    \"\"\"\n",
        "    it = iter(l)\n",
        "    last = next(it)\n",
        "\n",
        "    for current in it:\n",
        "        yield last, current\n",
        "        last = current    "
      ],
      "execution_count": 4,
      "outputs": []
    },
    {
      "cell_type": "code",
      "metadata": {
        "id": "GDWuBhIokCF_"
      },
      "source": [
        "# function to replace rows in the provided column of the provided dataframe\n",
        "# that match the provided string above the provided ratio with the provided string\n",
        "def replace_matches_in_column(DF_list,df, column, string_to_match, min_ratio = 70):\n",
        "    # get a list of unique strings\n",
        "    strings = df[column].unique()\n",
        "    \n",
        "    # get the top 10 closest matches to our input string\n",
        "    matches = fuzzywuzzy.process.extract(string_to_match, strings, \n",
        "                                         limit=10, scorer=fuzzywuzzy.fuzz.partial_ratio)\n",
        "\n",
        "    # only get matches with a ratio > min_ratio\n",
        "    close_matches = [match[0] for match in matches if match[1] >= min_ratio]\n",
        "    #current_set = pd.DataFrame(close_matches, columns = [\"cluster\"])\n",
        "    #print(current_set,end='\\n\\n')\n",
        "    DF_list.append(close_matches)\n",
        "    # get the rows of all the close matches in our dataframe\n",
        "    #rows_with_matches = df[column].isin(close_matches)\n",
        "\n",
        "    # replace all rows with close matches with the input matches \n",
        "    #df.loc[rows_with_matches, column] = string_to_match"
      ],
      "execution_count": 5,
      "outputs": []
    },
    {
      "cell_type": "code",
      "metadata": {
        "colab": {
          "base_uri": "https://localhost:8080/"
        },
        "id": "aqW9W5FRkIUP",
        "outputId": "cedae2f5-067b-42c1-e5bc-f8c14f378251"
      },
      "source": [
        "#create a list of the unique categories, we can merge common ones later\n",
        "cat_list = list()\n",
        "\n",
        "for current_cat in input_data['items.category']:\n",
        "  replace_matches_in_column(DF_list = cat_list, df=input_data, column='items.category', string_to_match=current_cat)\n",
        "\n",
        "#for cat in cat_list:\n",
        " # print(cat)\n",
        "\n",
        "#Merging any categories that have common elements. This is because for each item we create a new cluster\n",
        "#So there are a lot of redundant clusters\n",
        "#But Using this makes a lot of unrelated items cluster together, for eg. food essentials, bath essentials, bath equipment, rehab equipment\n",
        "G = to_graph(cat_list)\n",
        "final = connected_components(G)\n",
        "for cat in final:\n",
        "  print(cat)"
      ],
      "execution_count": 15,
      "outputs": [
        {
          "output_type": "stream",
          "text": [
            "{'home decor'}\n",
            "{'household items'}\n",
            "{'apparel', 'apparels test', 'apparels'}\n",
            "{'rehab epquipment', 'earring set', 'polishing agent', 'small goods', 'chyawanprash range', 'medical equipment', 'bath essentials', 'power equipment', 'bathing essentials', 'shpl range', 'food (liquid)', 'polishing essentials', 'food ingredients', 'industrial equipment', 'essentialgoods', 'food', 'food product', 'watches', 'misting', 'polishing agnt', 'medical essentials & equipments', 'earring', 'gardening', 'ring', 'food (solid)', 'essential epquipment', 'food products'}\n",
            "{'small packages', 'medium sized packages', 'packages'}\n",
            "{'travel gear', 'travel gears'}\n",
            "{'personal health care', 'beauty & personal care', 'personalcare', 'health & personal care', 'beauty-beauty', 'beauty & personal', 'helth & personal care', 'personal care', 'beauty', 'beauty & persomal care'}\n",
            "{'small home appliances'}\n",
            "{'mobile accessories', 'mobile', 'accessories', 'tops', 'laptop & computer accessories'}\n",
            "{'power bank'}\n",
            "{'danglers'}\n",
            "{'fake jewellery', 'fake jewelry', 'jewellery', 'jewelry'}\n",
            "{'multi tool', 'diy tool', 'diy tools', 'towels'}\n",
            "{'luggage'}\n",
            "{'ayurvedic', 'ayurvedic medicine', 'medicine', 'medicines'}\n",
            "{'shoes'}\n",
            "{'clothes'}\n",
            "{'glassware'}\n",
            "{'sports wear'}\n",
            "{'books & stationery'}\n",
            "{'embroidery supplies'}\n",
            "{'mask'}\n",
            "{'home dï¿½ï¿½', 'home dï¿½ï¿'}\n",
            "{'tablets'}\n",
            "{'home improvement'}\n",
            "{'electronic'}\n",
            "{'bracelet'}\n",
            "{'cosmetics'}\n",
            "{'tap extention', 'faucet extention'}\n",
            "{'home & kitchen'}\n",
            "{'keychainb', 'chain', 'chandbali', 'chain pendant', 'chandelier'}\n",
            "{'jhumki'}\n",
            "{'automotive'}\n",
            "{'battery (any kind)'}\n",
            "{'necklace set'}\n",
            "{'crockery'}\n",
            "{'juices'}\n",
            "{'video card (1a03be555)', 'video card (in13)', 'video card (in15)', 'video card (v002769)', 'video card (1a01yf907)', 'video card (1a03be115)', 'video card (1a03bg208)', 'video card (1a03gb488)', 'video card (in5)'}\n",
            "{'bath scrub'}\n",
            "{'diaper', 'diapers'}\n",
            "{'bathroom suppliess'}\n",
            "{'body care'}\n",
            "{'geo grow bag'}\n",
            "{'sanitary'}\n",
            "{'liquid items'}\n",
            "{'can'}\n"
          ],
          "name": "stdout"
        }
      ]
    },
    {
      "cell_type": "code",
      "metadata": {
        "id": "DLglBTkKkfuW"
      },
      "source": [
        "#cats = input_data['items.category'].unique()\n",
        "#cats.sort()\n",
        "#cats"
      ],
      "execution_count": null,
      "outputs": []
    }
  ]
}