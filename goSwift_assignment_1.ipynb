{
  "nbformat": 4,
  "nbformat_minor": 0,
  "metadata": {
    "colab": {
      "name": "goSwift assignment-1.ipynb",
      "provenance": [],
      "collapsed_sections": [],
      "authorship_tag": "ABX9TyODtbEkHKol3O0wZ+KhIEtn",
      "include_colab_link": true
    },
    "kernelspec": {
      "name": "python3",
      "display_name": "Python 3"
    },
    "language_info": {
      "name": "python"
    }
  },
  "cells": [
    {
      "cell_type": "markdown",
      "metadata": {
        "id": "view-in-github",
        "colab_type": "text"
      },
      "source": [
        "<a href=\"https://colab.research.google.com/github/geeksid1800/goSwift_geeksid/blob/main/goSwift_assignment_1.ipynb\" target=\"_parent\"><img src=\"https://colab.research.google.com/assets/colab-badge.svg\" alt=\"Open In Colab\"/></a>"
      ]
    },
    {
      "cell_type": "code",
      "metadata": {
        "colab": {
          "base_uri": "https://localhost:8080/"
        },
        "id": "dQan3vzXarHS",
        "outputId": "01daf9ab-96d5-453e-fc2f-e39c6b6c8777"
      },
      "source": [
        "import pandas as pd\n",
        "import matplotlib.pyplot as plt\n",
        "import numpy as np\n",
        "\n",
        "!pip install fuzzywuzzy\n",
        "!pip install python-Levenshtein\n",
        "\n",
        "import fuzzywuzzy\n",
        "from fuzzywuzzy import process\n",
        "import chardet\n",
        "\n",
        "#utf-8 unable to recognize 'Home decor'\n",
        "input_data = pd.read_csv('sample_data.csv',encoding='latin1') "
      ],
      "execution_count": 1,
      "outputs": [
        {
          "output_type": "stream",
          "text": [
            "Requirement already satisfied: fuzzywuzzy in /usr/local/lib/python3.7/dist-packages (0.18.0)\n",
            "Requirement already satisfied: python-Levenshtein in /usr/local/lib/python3.7/dist-packages (0.12.2)\n",
            "Requirement already satisfied: setuptools in /usr/local/lib/python3.7/dist-packages (from python-Levenshtein) (57.4.0)\n"
          ],
          "name": "stdout"
        }
      ]
    },
    {
      "cell_type": "code",
      "metadata": {
        "colab": {
          "base_uri": "https://localhost:8080/"
        },
        "id": "GBSeGvN9fMVJ",
        "outputId": "ee74f66c-7748-4089-a923-c37f1e378056"
      },
      "source": [
        "# convert to lower case\n",
        "input_data['items.category'] = input_data['items.category'].str.lower()\n",
        "# remove trailing white spaces\n",
        "input_data['items.category'] = input_data['items.category'].str.strip()\n",
        "\n",
        "cats = input_data['items.category'].unique()\n",
        "cats.sort()\n",
        "cats"
      ],
      "execution_count": 7,
      "outputs": [
        {
          "output_type": "execute_result",
          "data": {
            "text/plain": [
              "array(['accessories', 'apparels', 'automotive', 'ayurvedic medicine',\n",
              "       'bath essentials', 'bath scrub', 'bathing essentials',\n",
              "       'bathroom suppliess', 'battery (any kind)',\n",
              "       'beauty & personal care', 'beauty-beauty', 'body care',\n",
              "       'books & stationery', 'bracelet', 'can', 'chain', 'chandbali',\n",
              "       'chandelier', 'chyawanprash range', 'clothes', 'cosmetics',\n",
              "       'crockery', 'danglers', 'diaper', 'diy tools', 'electronic',\n",
              "       'embroidery supplies', 'essential epquipment', 'essentialgoods',\n",
              "       'faucet extention', 'food', 'gardening', 'geo grow bag',\n",
              "       'glassware', 'helth & personal care', 'home & kitchen',\n",
              "       'home decor', 'home dï¿½ï¿½', 'home improvement',\n",
              "       'household items', 'industrial equipment', 'jewellery', 'jewelry',\n",
              "       'jhumki', 'juices', 'liquid items', 'luggage', 'mask',\n",
              "       'medical equipment', 'medical essentials & equipments', 'misting',\n",
              "       'mobile', 'multi tool',\n",
              "       'name:video card (1a03be115)|product_id:a1|sku:a1|quantity:1|total:419.00|tax:0.00',\n",
              "       'name:video card (in15)|product_id:a1|sku:a1|quantity:1|total419.00|tax:0.00',\n",
              "       'name:video card (v002769)|product_id:a1|sku:a1|quantity:1|total:500.00|tax:0.00',\n",
              "       'necklace set', 'packages', 'personal health care',\n",
              "       'polishing agent', 'polishing essentials', 'power bank',\n",
              "       'power equipment', 'rehab epquipment', 'ring', 'sanitary', 'shoes',\n",
              "       'shpl range', 'small goods', 'small home appliances',\n",
              "       'sports wear', 'tablets', 'tap extention', 'tops', 'towels',\n",
              "       'travel gears', 'watches'], dtype=object)"
            ]
          },
          "metadata": {},
          "execution_count": 7
        }
      ]
    },
    {
      "cell_type": "code",
      "metadata": {
        "colab": {
          "base_uri": "https://localhost:8080/"
        },
        "id": "oSoP4-AXgiha",
        "outputId": "33aa21d8-d1be-4fdd-8e12-4d88fe496981"
      },
      "source": [
        "matches = fuzzywuzzy.process.extract(\"jewelry\", cats, limit=10, scorer=fuzzywuzzy.fuzz.partial_ratio)\n",
        "\n",
        "matches"
      ],
      "execution_count": 9,
      "outputs": [
        {
          "output_type": "execute_result",
          "data": {
            "text/plain": [
              "[('jewelry', 100),\n",
              " ('jewellery', 71),\n",
              " ('towels', 50),\n",
              " ('sports wear', 46),\n",
              " ('battery (any kind)', 43),\n",
              " ('books & stationery', 43),\n",
              " ('chandelier', 43),\n",
              " ('crockery', 43),\n",
              " ('electronic', 43),\n",
              " ('embroidery supplies', 43)]"
            ]
          },
          "metadata": {},
          "execution_count": 9
        }
      ]
    },
    {
      "cell_type": "code",
      "metadata": {
        "id": "GDWuBhIokCF_"
      },
      "source": [
        "# function to replace rows in the provided column of the provided dataframe\n",
        "# that match the provided string above the provided ratio with the provided string\n",
        "def replace_matches_in_column(df, column, string_to_match, min_ratio = 90):\n",
        "    # get a list of unique strings\n",
        "    strings = df[column].unique()\n",
        "    \n",
        "    # get the top 10 closest matches to our input string\n",
        "    matches = fuzzywuzzy.process.extract(string_to_match, strings, \n",
        "                                         limit=10, scorer=fuzzywuzzy.fuzz.partial_ratio)\n",
        "\n",
        "    # only get matches with a ratio > min_ratio\n",
        "    close_matches = [match[0] for match in matches if match[1] >= min_ratio]\n",
        "\n",
        "    # get the rows of all the close matches in our dataframe\n",
        "    rows_with_matches = df[column].isin(close_matches)\n",
        "\n",
        "    # replace all rows with close matches with the input matches \n",
        "    df.loc[rows_with_matches, column] = string_to_match\n",
        "    \n",
        "    # let us know the function's done\n",
        "    print(\"All done!\")"
      ],
      "execution_count": 10,
      "outputs": []
    },
    {
      "cell_type": "code",
      "metadata": {
        "id": "aqW9W5FRkIUP"
      },
      "source": [
        "#stop this function call manually for now\n",
        "for current_cat in input_data['items.category']:\n",
        "  replace_matches_in_column(df=input_data, column='items.category', string_to_match=current_cat)"
      ],
      "execution_count": null,
      "outputs": []
    },
    {
      "cell_type": "code",
      "metadata": {
        "colab": {
          "base_uri": "https://localhost:8080/"
        },
        "id": "DLglBTkKkfuW",
        "outputId": "bd93d328-04c5-43ed-ff68-5bbdcc96a8b0"
      },
      "source": [
        "cats = input_data['items.category'].unique()\n",
        "cats.sort()\n",
        "cats"
      ],
      "execution_count": 6,
      "outputs": [
        {
          "output_type": "execute_result",
          "data": {
            "text/plain": [
              "array(['accessories', 'apparels', 'automotive', 'ayurvedic medicine',\n",
              "       'bath essentials', 'bath scrub', 'bathing essentials',\n",
              "       'bathroom suppliess', 'battery (any kind)',\n",
              "       'beauty & personal care', 'beauty-beauty', 'body care',\n",
              "       'books & stationery', 'bracelet', 'can', 'chain', 'chandbali',\n",
              "       'chandelier', 'chyawanprash range', 'clothes', 'cosmetics',\n",
              "       'crockery', 'danglers', 'diaper', 'diy tools', 'electronic',\n",
              "       'embroidery supplies', 'essential epquipment', 'essentialgoods',\n",
              "       'faucet extention', 'food', 'gardening', 'geo grow bag',\n",
              "       'glassware', 'helth & personal care', 'home & kitchen',\n",
              "       'home decor', 'home dï¿½ï¿½', 'home improvement',\n",
              "       'household items', 'industrial equipment', 'jewellery', 'jewelry',\n",
              "       'jhumki', 'juices', 'liquid items', 'luggage', 'mask',\n",
              "       'medical equipment', 'medical essentials & equipments', 'misting',\n",
              "       'mobile', 'multi tool',\n",
              "       'name:video card (1a03be115)|product_id:a1|sku:a1|quantity:1|total:419.00|tax:0.00',\n",
              "       'name:video card (in15)|product_id:a1|sku:a1|quantity:1|total419.00|tax:0.00',\n",
              "       'name:video card (v002769)|product_id:a1|sku:a1|quantity:1|total:500.00|tax:0.00',\n",
              "       'necklace set', 'packages', 'personal health care',\n",
              "       'polishing agent', 'polishing essentials', 'power bank',\n",
              "       'power equipment', 'rehab epquipment', 'ring', 'sanitary', 'shoes',\n",
              "       'shpl range', 'small goods', 'small home appliances',\n",
              "       'sports wear', 'tablets', 'tap extention', 'tops', 'towels',\n",
              "       'travel gears', 'watches'], dtype=object)"
            ]
          },
          "metadata": {},
          "execution_count": 6
        }
      ]
    }
  ]
}