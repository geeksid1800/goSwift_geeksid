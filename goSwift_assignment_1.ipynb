{
  "nbformat": 4,
  "nbformat_minor": 0,
  "metadata": {
    "colab": {
      "name": "goSwift assignment-1.ipynb",
      "provenance": [],
      "collapsed_sections": [],
      "authorship_tag": "ABX9TyNt/F45rMpUk6eGWCpm6jgD",
      "include_colab_link": true
    },
    "kernelspec": {
      "name": "python3",
      "display_name": "Python 3"
    },
    "language_info": {
      "name": "python"
    }
  },
  "cells": [
    {
      "cell_type": "markdown",
      "metadata": {
        "id": "view-in-github",
        "colab_type": "text"
      },
      "source": [
        "<a href=\"https://colab.research.google.com/github/geeksid1800/goSwift_geeksid/blob/main/goSwift_assignment_1.ipynb\" target=\"_parent\"><img src=\"https://colab.research.google.com/assets/colab-badge.svg\" alt=\"Open In Colab\"/></a>"
      ]
    },
    {
      "cell_type": "code",
      "metadata": {
        "colab": {
          "base_uri": "https://localhost:8080/"
        },
        "id": "dQan3vzXarHS",
        "outputId": "b34d0f47-6103-4d9e-ba5e-7844c8b77e6a"
      },
      "source": [
        "import pandas as pd\n",
        "import matplotlib.pyplot as plt\n",
        "import numpy as np\n",
        "\n",
        "!pip install fuzzywuzzy\n",
        "!pip install python-Levenshtein\n",
        "\n",
        "import fuzzywuzzy\n",
        "from fuzzywuzzy import process\n",
        "import chardet\n",
        "\n",
        "#utf-8 unable to recognize 'Home decor'\n",
        "input_data = pd.read_csv('sample_data.csv',encoding='latin1') "
      ],
      "execution_count": 2,
      "outputs": [
        {
          "output_type": "stream",
          "text": [
            "Requirement already satisfied: fuzzywuzzy in /usr/local/lib/python3.7/dist-packages (0.18.0)\n",
            "Collecting python-Levenshtein\n",
            "  Downloading python-Levenshtein-0.12.2.tar.gz (50 kB)\n",
            "\u001b[K     |████████████████████████████████| 50 kB 2.9 MB/s \n",
            "\u001b[?25hRequirement already satisfied: setuptools in /usr/local/lib/python3.7/dist-packages (from python-Levenshtein) (57.4.0)\n",
            "Building wheels for collected packages: python-Levenshtein\n",
            "  Building wheel for python-Levenshtein (setup.py) ... \u001b[?25l\u001b[?25hdone\n",
            "  Created wheel for python-Levenshtein: filename=python_Levenshtein-0.12.2-cp37-cp37m-linux_x86_64.whl size=149865 sha256=394799afa313451aa602d5e56bfc484cfe95592db0e03835591cd00316b92f7a\n",
            "  Stored in directory: /root/.cache/pip/wheels/05/5f/ca/7c4367734892581bb5ff896f15027a932c551080b2abd3e00d\n",
            "Successfully built python-Levenshtein\n",
            "Installing collected packages: python-Levenshtein\n",
            "Successfully installed python-Levenshtein-0.12.2\n"
          ],
          "name": "stdout"
        }
      ]
    },
    {
      "cell_type": "code",
      "metadata": {
        "colab": {
          "base_uri": "https://localhost:8080/"
        },
        "id": "GBSeGvN9fMVJ",
        "outputId": "fa542eb5-1c7a-41a3-a55d-c6e170240195"
      },
      "source": [
        "# convert to lower case\n",
        "input_data['items.category'] = input_data['items.category'].str.lower()\n",
        "# remove trailing white spaces\n",
        "input_data['items.category'] = input_data['items.category'].str.strip()\n",
        "\n",
        "cats = input_data['items.category'].unique()\n",
        "cats.sort()\n",
        "cats"
      ],
      "execution_count": 3,
      "outputs": [
        {
          "output_type": "execute_result",
          "data": {
            "text/plain": [
              "array(['accessories', 'apparel', 'apparels', 'apparels test',\n",
              "       'automotive', 'ayurvedic', 'ayurvedic medicine', 'bath essentials',\n",
              "       'bath scrub', 'bathing essentials', 'bathroom suppliess',\n",
              "       'battery (any kind)', 'beauty', 'beauty & persomal care',\n",
              "       'beauty & personal', 'beauty & personal care', 'beauty-beauty',\n",
              "       'body care', 'books & stationery', 'bracelet', 'can', 'chain',\n",
              "       'chain pendant', 'chandbali', 'chandelier', 'chyawanprash range',\n",
              "       'clothes', 'cosmetics', 'crockery', 'danglers', 'diaper',\n",
              "       'diapers', 'diy tool', 'diy tools', 'earring', 'earring set',\n",
              "       'electronic', 'embroidery supplies', 'essential epquipment',\n",
              "       'essentialgoods', 'fake jewellery', 'fake jewelry',\n",
              "       'faucet extention', 'food', 'food (liquid)', 'food (solid)',\n",
              "       'food ingredients', 'food product', 'food products', 'gardening',\n",
              "       'geo grow bag', 'glassware', 'health & personal care',\n",
              "       'helth & personal care', 'home & kitchen', 'home decor',\n",
              "       'home dï¿½ï¿', 'home dï¿½ï¿½', 'home improvement',\n",
              "       'household items', 'industrial equipment', 'jewellery', 'jewelry',\n",
              "       'jhumki', 'juices', 'keychainb', 'laptop & computer accessories',\n",
              "       'liquid items', 'luggage', 'mask', 'medical equipment',\n",
              "       'medical essentials & equipments', 'medicine', 'medicines',\n",
              "       'medium sized packages', 'misting', 'mobile', 'mobile accessories',\n",
              "       'multi tool',\n",
              "       'name:video card (1a01yf907)|product_id:a1|sku:a1|quantity:1|total:419.00|tax:0.00',\n",
              "       'name:video card (1a03be115)|product_id:a1|sku:a1|quantity:1|total:419.00|tax:0.00',\n",
              "       'name:video card (1a03be555)|product_id:a1|sku:a1|quantity:1|total:419.00|tax:0.00',\n",
              "       'name:video card (1a03bg208)|product_id:a1|sku:a1|quantity:1|total:419.00|tax:0.00',\n",
              "       'name:video card (1a03gb488)|product_id:a1|sku:a1|quantity:1|total:850.00|tax:0.00',\n",
              "       'name:video card (in13)|product_id:a1|sku:a1|quantity:1|total419.00|tax:0.00',\n",
              "       'name:video card (in15)|product_id:a1|sku:a1|quantity:1|total419.00|tax:0.00',\n",
              "       'name:video card (in5)|product_id:a1|sku:a1|quantity:1|total419.00|tax:0.00',\n",
              "       'name:video card (v002769)|product_id:a1|sku:a1|quantity:1|total:500.00|tax:0.00',\n",
              "       'necklace set', 'packages', 'personal care',\n",
              "       'personal health care', 'personalcare', 'polishing agent',\n",
              "       'polishing agnt', 'polishing essentials', 'power bank',\n",
              "       'power equipment', 'rehab epquipment', 'ring', 'sanitary', 'shoes',\n",
              "       'shpl range', 'small goods', 'small home appliances',\n",
              "       'small packages', 'sports wear', 'tablets', 'tap extention',\n",
              "       'tops', 'towels', 'travel gear', 'travel gears', 'watches'],\n",
              "      dtype=object)"
            ]
          },
          "metadata": {},
          "execution_count": 3
        }
      ]
    },
    {
      "cell_type": "code",
      "metadata": {
        "id": "oSoP4-AXgiha"
      },
      "source": [
        "matches = fuzzywuzzy.process.extract(\"beauty & personal care\", cats, limit=10, scorer=fuzzywuzzy.fuzz.partial_ratio)\n",
        "\n",
        "matches"
      ],
      "execution_count": null,
      "outputs": []
    },
    {
      "cell_type": "code",
      "metadata": {
        "id": "GDWuBhIokCF_"
      },
      "source": [
        "# function to replace rows in the provided column of the provided dataframe\n",
        "# that match the provided string above the provided ratio with the provided string\n",
        "def replace_matches_in_column(df, column, string_to_match, min_ratio = 80):\n",
        "    # get a list of unique strings\n",
        "    strings = df[column].unique()\n",
        "    \n",
        "    # get the top 10 closest matches to our input string\n",
        "    matches = fuzzywuzzy.process.extract(string_to_match, strings, \n",
        "                                         limit=10, scorer=fuzzywuzzy.fuzz.partial_ratio)\n",
        "\n",
        "    # only get matches with a ratio > min_ratio\n",
        "    close_matches = [matches[0] for matches in matches if matches[1] >= min_ratio]\n",
        "\n",
        "    # get the rows of all the close matches in our dataframe\n",
        "    rows_with_matches = df[column].isin(close_matches)\n",
        "\n",
        "    # replace all rows with close matches with the input matches \n",
        "    df.loc[rows_with_matches, column] = string_to_match\n",
        "    \n",
        "    # let us know the function's done\n",
        "    print(\"All done!\")"
      ],
      "execution_count": 5,
      "outputs": []
    },
    {
      "cell_type": "code",
      "metadata": {
        "id": "aqW9W5FRkIUP"
      },
      "source": [
        "#stop this function call manually for now\n",
        "for current_cat in input_data['items.category']:\n",
        "  replace_matches_in_column(df=input_data, column='items.category', string_to_match=current_cat)"
      ],
      "execution_count": null,
      "outputs": []
    },
    {
      "cell_type": "code",
      "metadata": {
        "colab": {
          "base_uri": "https://localhost:8080/"
        },
        "id": "DLglBTkKkfuW",
        "outputId": "f41d3c91-3d4e-49b6-f6de-8787b7b6b44c"
      },
      "source": [
        "cats = input_data['items.category'].unique()\n",
        "cats.sort()\n",
        "cats"
      ],
      "execution_count": 7,
      "outputs": [
        {
          "output_type": "execute_result",
          "data": {
            "text/plain": [
              "array(['accessories', 'apparels', 'automotive', 'ayurvedic medicine',\n",
              "       'bath scrub', 'bathing essentials', 'bathroom suppliess',\n",
              "       'battery (any kind)', 'beauty & personal care', 'beauty-beauty',\n",
              "       'body care', 'books & stationery', 'bracelet', 'can',\n",
              "       'chain pendant', 'chandbali', 'chandelier', 'chyawanprash range',\n",
              "       'clothes', 'cosmetics', 'crockery', 'danglers', 'diaper',\n",
              "       'diapers', 'diy tools', 'electronic', 'embroidery supplies',\n",
              "       'essentialgoods', 'faucet extention', 'food', 'gardening',\n",
              "       'geo grow bag', 'glassware', 'home & kitchen', 'home decor',\n",
              "       'home dï¿½ï¿½', 'home improvement', 'household items',\n",
              "       'industrial equipment', 'jewellery', 'jewelry', 'jhumki', 'juices',\n",
              "       'keychainb', 'luggage', 'mask', 'medical equipment',\n",
              "       'medical essentials & equipments', 'misting', 'mobile',\n",
              "       'multi tool',\n",
              "       'name:video card (1a01yf907)|product_id:a1|sku:a1|quantity:1|total:419.00|tax:0.00',\n",
              "       'name:video card (1a03be115)|product_id:a1|sku:a1|quantity:1|total:419.00|tax:0.00',\n",
              "       'name:video card (1a03be555)|product_id:a1|sku:a1|quantity:1|total:419.00|tax:0.00',\n",
              "       'name:video card (1a03bg208)|product_id:a1|sku:a1|quantity:1|total:419.00|tax:0.00',\n",
              "       'name:video card (1a03gb488)|product_id:a1|sku:a1|quantity:1|total:850.00|tax:0.00',\n",
              "       'name:video card (in13)|product_id:a1|sku:a1|quantity:1|total419.00|tax:0.00',\n",
              "       'name:video card (in15)|product_id:a1|sku:a1|quantity:1|total419.00|tax:0.00',\n",
              "       'name:video card (in5)|product_id:a1|sku:a1|quantity:1|total419.00|tax:0.00',\n",
              "       'name:video card (v002769)|product_id:a1|sku:a1|quantity:1|total:500.00|tax:0.00',\n",
              "       'necklace set', 'packages', 'personal health care',\n",
              "       'polishing agent', 'power bank', 'power equipment', 'ring',\n",
              "       'sanitary', 'shoes', 'small goods', 'small home appliances',\n",
              "       'sports wear', 'tablets', 'tops', 'towels', 'travel gears',\n",
              "       'watches'], dtype=object)"
            ]
          },
          "metadata": {},
          "execution_count": 7
        }
      ]
    }
  ]
}